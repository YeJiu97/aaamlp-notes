{
 "cells": [
  {
   "cell_type": "markdown",
   "id": "74ab96ae-694f-48b0-93d5-84999e24c9f0",
   "metadata": {},
   "source": [
    "# 项目"
   ]
  },
  {
   "cell_type": "markdown",
   "id": "c1206b75-2622-4808-bda2-273a2cf8b410",
   "metadata": {},
   "source": [
    "在集成开发环境/文本编辑器中工作，而不是在 jupyter notebook 中。"
   ]
  },
  {
   "cell_type": "markdown",
   "id": "4aa9c83d-26a2-4553-bd19-3742a1d7e195",
   "metadata": {},
   "source": [
    "对于你正在做的任何项目，都要创建一个新文件夹。在本例中，我将项目命名为 \"project\"。"
   ]
  },
  {
   "cell_type": "markdown",
   "id": "7ae70988-ae02-4dc8-ac6c-a4b678478837",
   "metadata": {},
   "source": [
    "项目文件夹内部应该如下所示。\n",
    "\n",
    "- input\n",
    "    - train.csv\n",
    "    - test.csv\n",
    "- src\n",
    "    - create_folds.py\n",
    "    - train.py\n",
    "    - inference.py\n",
    "    - models.py\n",
    "    - config.py\n",
    "    - model_dispatcher.py\n",
    "- models\n",
    "    - model_rf.bin\n",
    "    - model_et.bin\n",
    "- notebooks\n",
    "    - exploration.ipynb\n",
    "    - check_data.ipynb\n",
    "- README.md\n",
    "- LICENSE"
   ]
  },
  {
   "cell_type": "markdown",
   "id": "c09fab6f-e4b2-4b5f-b78c-a1061f3c6bf5",
   "metadata": {},
   "source": [
    "input/：该文件夹包含机器学习项目的所有输入文件和数据。如果您正在开发 NLP 项目，您可以将 embeddings 放在这里。如果是图像项目，所有图像都放在该文件夹下的子文件夹中。\n",
    "\n",
    "src/：我们将在这里保存与项目相关的所有 python 脚本。如果我说的是一个 python 脚本，即任何 *.py 文件，它都存储在 src 文件夹中。\n",
    "\n",
    "models/：该文件夹保存所有训练过的模型。\n",
    "\n",
    "notebook/：所有 jupyter notebook（即任何 *.ipynb 文件）都存储在笔记本 文件夹中。\n",
    "\n",
    "README.md：这是一个标记符文件，您可以在其中描述您的项目，并写明如何训练模型或在生产环境中使用。\n",
    "\n",
    "LICENSE：这是一个简单的文本文件，包含项目的许可证，如 MIT、Apache 等。关于许可证的详细介绍超出了本书的范围。"
   ]
  }
 ],
 "metadata": {
  "kernelspec": {
   "display_name": "Python 3 (ipykernel)",
   "language": "python",
   "name": "python3"
  },
  "language_info": {
   "codemirror_mode": {
    "name": "ipython",
    "version": 3
   },
   "file_extension": ".py",
   "mimetype": "text/x-python",
   "name": "python",
   "nbconvert_exporter": "python",
   "pygments_lexer": "ipython3",
   "version": "3.11.9"
  }
 },
 "nbformat": 4,
 "nbformat_minor": 5
}
