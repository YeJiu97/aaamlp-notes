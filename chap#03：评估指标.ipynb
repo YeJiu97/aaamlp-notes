{
 "cells": [
  {
   "cell_type": "markdown",
   "id": "aa88fa5f-924c-4743-b7c1-f4984375b130",
   "metadata": {},
   "source": [
    "# 评估指标"
   ]
  },
  {
   "cell_type": "markdown",
   "id": "a41cb3b8-fa68-4b55-a8c3-6043c4cfbdf6",
   "metadata": {},
   "source": [
    "评估指标（Evaluation Metrics）是用于量化模型性能的一组标准或规则。它们帮助我们理解模型在特定任务上的表现如何，以及模型的预测结果与实际结果之间的差异。不同类型的机器学习任务会使用不同的评估指标。"
   ]
  },
  {
   "cell_type": "markdown",
   "id": "da27af7a-129d-484a-a309-4c2bdf5cc393",
   "metadata": {},
   "source": [
    "几种最常用的评估指标：\n",
    "\n",
    "| 评估指标       | 定义                                                         | 适用场景                                                     | 优点                                                         | 缺点                                                         |\n",
    "|--------------|------------------------------------------------------------|------------------------------------------------------------|------------------------------------------------------------|------------------------------------------------------------|\n",
    "| 准确率（Accuracy） | 正确分类的样本数占总样本数的比例。                           | 适用于样本均衡的分类问题。                                   | 直观，易于理解。                                           | 在类别不平衡的情况下可能会产生误导。                               |\n",
    "| 精确率（Precision） | 在所有被预测为正类的样本中，实际为正类的比例。                 | 适用于需要减少假阳性的场景，如医疗诊断。                     | 高精确率意味着较少的假阳性。                                 | 可能会忽略召回率。                                         |\n",
    "| 召回率（Recall） | 在所有实际为正类的样本中，被正确预测为正类的比例。                 | 适用于需要减少假阴性的场景，如邮件过滤。                     | 高召回率意味着较少的假阴性。                                 | 可能会忽略精确率。                                         |\n",
    "| F1 分数（F1 Score） | 精确率和召回率的调和平均数。                                 | 适用于需要平衡精确率和召回率的场景。                         | 综合考虑精确率和召回率。                                   | 需要同时知道精确率和召回率。                                 |\n",
    "| AUC（AUC）    | ROC曲线下面积，衡量模型区分正负类的能力。                     | 适用于二分类问题，尤其是当类别不平衡时。                     | 不受阈值选择的影响。                                      | 计算复杂度较高。                                           |\n",
    "| 对数损失（Log loss） | 预测概率与实际发生事件的对数似然比的负对数。                   | 适用于二分类或多分类问题，尤其是概率预测。                   | 惩罚错误的置信度，对概率预测敏感。                         | 对于概率预测不敏感的场景不太适用。                           |\n",
    "| k 精确率（P@k）  | 在前k个预测结果中，正确的正类样本的比例。                       | 适用于推荐系统和排名问题。                                   | 可以快速评估模型的头部性能。                                 | 只考虑前k个结果，可能忽略整体性能。                           |\n",
    "| k 平均精率（AP@k） | 对每个位置的精确率取平均，然后计算前k个位置的平均值。             | 适用于推荐系统和信息检索。                                   | 考虑了所有位置的精确率，比P@k更全面。                         | 计算相对复杂。                                           |\n",
    "| k 均值平均精确率（MAP@k） | 对每个查询的平均精确率取平均，然后计算前k个位置的平均值。         | 适用于信息检索和推荐系统，尤其是有多个子查询的场景。         | 考虑了查询的多样性和每个查询的精确率。                     | 计算相对复杂，需要多个查询。                                |\n",
    "\n",
    "这些指标各有优缺点，选择哪个指标取决于具体的业务需求和模型的目标。在实际应用中，可能需要结合多个指标来全面评估模型的性能。\n"
   ]
  },
  {
   "cell_type": "markdown",
   "id": "5f1d1914-f27e-4b74-bf36-5d31ff2293cd",
   "metadata": {},
   "source": [
    "接着是回归指标："
   ]
  },
  {
   "cell_type": "markdown",
   "id": "3df2ecd6-317f-4be3-a3c2-c7dc38b196d4",
   "metadata": {},
   "source": [
    "\n",
    "| 评估指标             | 定义                                                         | 适用场景                                                     | 优点                                                         | 缺点                                                         |\n",
    "|-------------------|------------------------------------------------------------|------------------------------------------------------------|------------------------------------------------------------|------------------------------------------------------------|\n",
    "| 平均绝对误差（MAE）  | 预测值与实际值差的绝对值的平均值。                           | 回归问题，适用于连续变量的预测。                             | 对异常值不敏感，易于理解和解释。                             | 不考虑误差的方向。                                         |\n",
    "| 均方误差（MSE）    | 预测值与实际值差的平方的平均值。                             | 回归问题，适用于连续变量的预测。                             | 惩罚大的误差，对异常值敏感。                                 | 平方操作使得误差放大，不易于解释。                             |\n",
    "| 均方根误差（RMSE） | MSE的平方根，与原始数据在同一量纲上。                         | 回归问题，适用于连续变量的预测。                             | 惩罚大的误差，对异常值敏感，结果易于解释。                   | 平方根操作使得误差放大，不易于解释。                           |\n",
    "| 均方根对数误差（RMSLE） | 对数误差的平方的平均值的平方根。                             | 回归问题，特别是当目标变量的分布是指数型的。                 | 对比率误差更敏感，惩罚大的误差。                             | 计算复杂度较高，对零值敏感。                                   |\n",
    "| 平均百分比误差（MPE） | 预测值与实际值差的百分比的平均值。                           | 回归问题，适用于连续变量的预测。                             | 考虑了误差的相对大小。                                      | 对于接近零的目标值可能不稳定。                                 |\n",
    "| 平均绝对百分比误差（MAPE） | 预测值与实际值差的绝对值占实际值的百分比的平均值。             | 回归问题，适用于连续变量的预测。                             | 考虑了误差的相对大小，易于解释。                             | 对于接近零的目标值可能不稳定，对所有误差给予相同权重。               |\n",
    "| R2               | 衡量模型解释的变异性与总变异性的比例。                         | 回归问题，适用于连续变量的预测。                             | 衡量模型的解释能力，值越接近1越好。                         | 不能单独使用，需要与其他指标结合。                             |"
   ]
  },
  {
   "cell_type": "markdown",
   "id": "4482eca5-349c-4367-87a3-fd83628c3b56",
   "metadata": {},
   "source": [
    "计算准确率的代码非常的简单："
   ]
  },
  {
   "cell_type": "code",
   "execution_count": 1,
   "id": "fdbb8bf7-6798-4e47-a39a-50d26e37e8f2",
   "metadata": {},
   "outputs": [],
   "source": [
    "def accuracy(y_true, y_pred):\n",
    "    # 为正确预测数初始化一个简单计数器\n",
    "    correct_counter = 0\n",
    "    # 遍历y_true，y_pred中所有元素\n",
    "    for yt, yp in zip(y_true, y_pred):\n",
    "        if yt == yp:\n",
    "            # 如果预测标签与真实标签相同，则增加计数器\n",
    "            correct_counter += 1\n",
    "    # 返回正确率，正确标签数/总标签数\n",
    "    return correct_counter / len(y_true)"
   ]
  },
  {
   "cell_type": "markdown",
   "id": "19281906-ef50-4924-b90f-476306a14cdc",
   "metadata": {},
   "source": [
    "我们还可以使用 scikit-learn 计算准确率。"
   ]
  },
  {
   "cell_type": "code",
   "execution_count": 2,
   "id": "f79cf490-db3c-49a3-bb99-bbc534ec9193",
   "metadata": {},
   "outputs": [
    {
     "data": {
      "text/plain": [
       "0.625"
      ]
     },
     "execution_count": 2,
     "metadata": {},
     "output_type": "execute_result"
    }
   ],
   "source": [
    "from sklearn import metrics\n",
    "\n",
    "l1 = [0,1,1,1,0,0,0,1]\n",
    "l2 = [0,1,0,1,0,1,0,0]\n",
    "\n",
    "metrics.accuracy_score(l1, l2)"
   ]
  },
  {
   "cell_type": "markdown",
   "id": "a7a4ee14-ffe0-4159-a8a4-660d81c5a27f",
   "metadata": {},
   "source": [
    "一个类别中的样本数量比另一个类别中的样本数量多很多。在这种情况下，使用准确率作为评估指标是不可取的，因为它不能代表数据。因此，您可能会获得很高的准确率，但您的模型在实际样本中的表现可能并不理想，而且您也无法向经理解释原因。"
   ]
  },
  {
   "cell_type": "markdown",
   "id": "48e9b8d8-0125-422d-88d7-5a474d20e2f3",
   "metadata": {},
   "source": [
    "以下是一张表格，整理了真阳性（TP）、真阴性（TN）、假阳性（FP）和假阴性（FN）的定义：\n",
    "\n",
    "| 类别       | 定义                                                         |\n",
    "|----------|------------------------------------------------------------|\n",
    "| 真阳性（TP） | 模型预测为阳性，实际也为阳性。                                |\n",
    "| 真阴性（TN） | 模型预测为阴性，实际也为阴性。                                |\n",
    "| 假阳性（FP） | 模型预测为阳性，实际为阴性（错误地将阴性预测为阳性）。         |\n",
    "| 假阴性（FN） | 模型预测为阴性，实际为阳性（错误地将阳性预测为阴性）。         |\n",
    "\n",
    "这些定义适用于各种二分类问题，可以是任何需要区分两个类别的场景，例如疾病诊断、垃圾邮件过滤、客户流失预测等。通过这些基本的分类结果，我们可以进一步计算出精确率、召回率、F1分数等评估指标。"
   ]
  },
  {
   "cell_type": "markdown",
   "id": "43d98986-70a1-4051-a1c2-a5cae079e1d0",
   "metadata": {},
   "source": [
    "我们可以进行实现："
   ]
  },
  {
   "cell_type": "code",
   "execution_count": 3,
   "id": "8ac47917-6616-4846-8374-b919de0ea305",
   "metadata": {},
   "outputs": [],
   "source": [
    "def true_positive(y_true, y_pred):\n",
    "    tp = 0\n",
    "    for yt, yp in zip(y_true, y_pred):\n",
    "        if yt == 1 and yp == 1:\n",
    "            tp += 1\n",
    "    return tp"
   ]
  },
  {
   "cell_type": "code",
   "execution_count": 4,
   "id": "cee57eea-71f6-4559-8324-39963c31b5bd",
   "metadata": {},
   "outputs": [],
   "source": [
    "def true_negative(y_true, y_pred):\n",
    "    # 初始化真阴性样本计数器\n",
    "    tn = 0\n",
    "    # 遍历y_true，y_pred中所有元素\n",
    "    for yt, yp in zip(y_true, y_pred):\n",
    "         # 若真实标签为负类且预测标签也为负类，计数器增加\n",
    "        if yt == 0 and yp == 0:\n",
    "            tn += 1\n",
    "    # 返回真阴性样本数\n",
    "    return tn"
   ]
  },
  {
   "cell_type": "code",
   "execution_count": 5,
   "id": "721faefb-85bd-45e7-be50-9fa1c71d3c4d",
   "metadata": {},
   "outputs": [],
   "source": [
    "def false_positive(y_true, y_pred):\n",
    "    # 初始化假阳性计数器\n",
    "    fp = 0\n",
    "    # 遍历y_true，y_pred中所有元素\n",
    "    for yt, yp in zip(y_true, y_pred):\n",
    "        # 若真实标签为负类而预测标签为正类，计数器增加\n",
    "        if yt == 0 and yp == 1:\n",
    "            fp += 1\n",
    "    # 返回假阳性样本数\n",
    "    return fp"
   ]
  },
  {
   "cell_type": "code",
   "execution_count": 6,
   "id": "261f1398-0730-46f6-b88d-87a1a5639c42",
   "metadata": {},
   "outputs": [],
   "source": [
    "def false_negative(y_true, y_pred):\n",
    "    # 初始化假阴性计数器\n",
    "    fn = 0\n",
    "    # 遍历y_true，y_pred中所有元素\n",
    "    for yt, yp in zip(y_true, y_pred):\n",
    "        # 若真实标签为正类而预测标签为负类，计数器增加\n",
    "        if yt == 1 and yp == 0:\n",
    "            fn += 1\n",
    "    # 返回假阴性数\n",
    "    return fn"
   ]
  },
  {
   "cell_type": "markdown",
   "id": "c187e63c-af6c-4dde-bd90-472960e514ac",
   "metadata": {},
   "source": [
    "当然，这几个函数都是简单的实现了二元分类模型的评测。"
   ]
  },
  {
   "cell_type": "code",
   "execution_count": 7,
   "id": "2af63d10-d415-401c-a52f-453a0605af94",
   "metadata": {},
   "outputs": [],
   "source": [
    "l1 = [0,1,1,1,0,0,0,1]\n",
    "l2 = [0,1,0,1,0,1,0,0]"
   ]
  },
  {
   "cell_type": "code",
   "execution_count": 8,
   "id": "446b5487-6dfa-4ea3-826d-22c4d9930c7b",
   "metadata": {},
   "outputs": [
    {
     "data": {
      "text/plain": [
       "2"
      ]
     },
     "execution_count": 8,
     "metadata": {},
     "output_type": "execute_result"
    }
   ],
   "source": [
    "true_positive(l1, l2)"
   ]
  },
  {
   "cell_type": "code",
   "execution_count": 9,
   "id": "87a871cf-da8d-4812-b8ce-c3c10bc6f0c2",
   "metadata": {},
   "outputs": [
    {
     "data": {
      "text/plain": [
       "1"
      ]
     },
     "execution_count": 9,
     "metadata": {},
     "output_type": "execute_result"
    }
   ],
   "source": [
    "false_positive(l1, l2)"
   ]
  },
  {
   "cell_type": "code",
   "execution_count": 10,
   "id": "c8bb30ef-4f30-4c8b-bd86-f8937dbb99e2",
   "metadata": {},
   "outputs": [
    {
     "data": {
      "text/plain": [
       "2"
      ]
     },
     "execution_count": 10,
     "metadata": {},
     "output_type": "execute_result"
    }
   ],
   "source": [
    "false_negative(l1, l2)"
   ]
  },
  {
   "cell_type": "code",
   "execution_count": 11,
   "id": "86ec1fd9-221a-44fe-b485-f9fa0ddfd0bf",
   "metadata": {},
   "outputs": [
    {
     "data": {
      "text/plain": [
       "3"
      ]
     },
     "execution_count": 11,
     "metadata": {},
     "output_type": "execute_result"
    }
   ],
   "source": [
    "true_negative(l1, l2)"
   ]
  },
  {
   "attachments": {
    "121f0de8-7131-4ad2-b65b-7f013db8ec34.png": {
     "image/png": "[encoded data removed]"
    }
   },
   "cell_type": "markdown",
   "id": "44d8d786-81cd-46db-83c9-55d188f0c6e4",
   "metadata": {},
   "source": [
    "如果我们必须用上述术语来定义准确率，我们可以写为：\n",
    "\n",
    "![image.png](attachment:121f0de8-7131-4ad2-b65b-7f013db8ec34.png)"
   ]
  },
  {
   "cell_type": "markdown",
   "id": "19c6cc2a-26de-4a7c-8426-85426e4fd4f0",
   "metadata": {},
   "source": [
    "在 python 中使用 TP、TN、FP 和 FN 快速实现准确度得分。我们将其称为 accuracy_v2："
   ]
  },
  {
   "cell_type": "code",
   "execution_count": 13,
   "id": "f12aa2f9-b4b3-43a0-b672-2d2dea7f2555",
   "metadata": {},
   "outputs": [],
   "source": [
    "def accuracy_v2(y_true, y_pred):\n",
    "    # 真阳性样本数\n",
    "    tp = true_positive(y_true, y_pred)\n",
    "    # 假阳性样本数\n",
    "    fp = false_positive(y_true, y_pred)\n",
    "    # 假阴性样本数\n",
    "    fn = false_negative(y_true, y_pred)\n",
    "    # 真阴性样本数\n",
    "    tn = true_negative(y_true, y_pred)\n",
    "    # 准确率\n",
    "    accuracy_score = (tp + tn) / (tp + tn + fp + fn)\n",
    "    return accuracy_score"
   ]
  },
  {
   "cell_type": "markdown",
   "id": "af6fc20c-8ccc-449d-a43a-2f60f30e50b1",
   "metadata": {},
   "source": [
    "重新实现先前的准确性计算："
   ]
  },
  {
   "cell_type": "code",
   "execution_count": 17,
   "id": "2b79c660-bc76-482b-995a-218d60ee7f33",
   "metadata": {},
   "outputs": [],
   "source": [
    "l1 = [0,1,1,1,0,0,0,1]\n",
    "l2 = [0,1,0,1,0,1,0,0]"
   ]
  },
  {
   "cell_type": "code",
   "execution_count": 16,
   "id": "b3fbf82f-a9a7-4e68-8299-7934d6d437a0",
   "metadata": {},
   "outputs": [
    {
     "data": {
      "text/plain": [
       "0.625"
      ]
     },
     "execution_count": 16,
     "metadata": {},
     "output_type": "execute_result"
    }
   ],
   "source": [
    "accuracy(l1, l2)"
   ]
  },
  {
   "cell_type": "code",
   "execution_count": 18,
   "id": "becc5bb7-49e1-4845-90ae-47518e836616",
   "metadata": {},
   "outputs": [
    {
     "data": {
      "text/plain": [
       "0.625"
      ]
     },
     "execution_count": 18,
     "metadata": {},
     "output_type": "execute_result"
    }
   ],
   "source": [
    "accuracy_v2(l1, l2)"
   ]
  },
  {
   "cell_type": "code",
   "execution_count": 19,
   "id": "ccd3eb17-22de-4b59-9091-6d3689f8d261",
   "metadata": {},
   "outputs": [
    {
     "data": {
      "text/plain": [
       "0.625"
      ]
     },
     "execution_count": 19,
     "metadata": {},
     "output_type": "execute_result"
    }
   ],
   "source": [
    "metrics.accuracy_score(l1, l2)"
   ]
  },
  {
   "cell_type": "markdown",
   "id": "65bbbe49-0d4d-4fdc-809c-ef981e4b5db4",
   "metadata": {},
   "source": [
    "接着查看其他的指标：精确率。"
   ]
  },
  {
   "attachments": {
    "e80d27b6-de8e-471b-9831-d435081b8828.png": {
     "image/png": "[encoded data removed]"
    }
   },
   "cell_type": "markdown",
   "id": "96a80603-c582-42fd-87d8-3d2a4cd6b78d",
   "metadata": {},
   "source": [
    "![image.png](attachment:e80d27b6-de8e-471b-9831-d435081b8828.png)"
   ]
  },
  {
   "cell_type": "code",
   "execution_count": 24,
   "id": "5db5ba51-8a4e-4a27-8c59-117bb1c3407a",
   "metadata": {},
   "outputs": [],
   "source": [
    "def precision(y_true, y_pred):\n",
    "    # 真阳性样本数\n",
    "    tp = true_positive(y_true, y_pred)\n",
    "    # 假阳性样本数\n",
    "    fp = false_positive(y_true, y_pred)\n",
    "    # 精确率\n",
    "    precision = tp / (tp + fp)\n",
    "    return precision"
   ]
  },
  {
   "attachments": {
    "49877c39-50de-4b98-8264-b1946d9b14ce.png": {
     "image/png": "[encoded data removed]"
    }
   },
   "cell_type": "markdown",
   "id": "f86711ad-e59b-41f3-be7a-09f9afd597a7",
   "metadata": {},
   "source": [
    "接着查看召回率，召回率的定义为：\n",
    "\n",
    "![image.png](attachment:49877c39-50de-4b98-8264-b1946d9b14ce.png)"
   ]
  },
  {
   "cell_type": "code",
   "execution_count": 20,
   "id": "dae381ca-c460-4c66-8029-c17150c83646",
   "metadata": {},
   "outputs": [],
   "source": [
    "def recall(y_true, y_pred):\n",
    "    # 真阳性样本数\n",
    "    tp = true_positive(y_true, y_pred)\n",
    "    # 假阴性样本数\n",
    "    fn = false_negative(y_true, y_pred)\n",
    "    # 召回率\n",
    "    recall = tp / (tp + fn)\n",
    "    return recall"
   ]
  },
  {
   "cell_type": "code",
   "execution_count": 21,
   "id": "60e30f25-407b-48cb-baee-5159cdfcb855",
   "metadata": {},
   "outputs": [
    {
     "data": {
      "text/plain": [
       "0.5"
      ]
     },
     "execution_count": 21,
     "metadata": {},
     "output_type": "execute_result"
    }
   ],
   "source": [
    "l1 = [0,1,1,1,0,0,0,1]\n",
    "l2 = [0,1,0,1,0,1,0,0]\n",
    "\n",
    "recall(l1, l2)"
   ]
  },
  {
   "cell_type": "markdown",
   "id": "430e2e9f-6e44-42fd-8163-07ab95602e57",
   "metadata": {},
   "source": [
    "对于一个 \"好 \"模型来说，精确率和召回值都应该很高。我们看到，在上面的例子中，召回值相当高。但是，精确率却很低！我们的模型产生了大量的误报，但漏报较少。"
   ]
  },
  {
   "cell_type": "markdown",
   "id": "0c36c89a-fe05-4ddc-aae4-7d3aacf393c8",
   "metadata": {},
   "source": [
    "在机器学习模型评估中，precision（精确率）和recall（召回率）是两个重要的指标，它们在不同的应用场景下的重要性有所不同：\n",
    "\n",
    "1. 更加注重precision的情况：\n",
    "   - 当我们更关心预测结果的准确性，即希望预测为正样本的样本中，真正为正样本的比例尽可能高时，我们会注重precision。例如，在推荐系统中，我们希望推荐给用户的内容尽可能是用户感兴趣的，以减少用户的打扰。\n",
    "   - 在金融领域，如预测股票涨跌时，我们更关心那些我们预测会涨的股票中，实际上涨的比例有多高，因为这直接关系到投资决策和收益。\n",
    "\n",
    "2. 更加注重recall的情况：\n",
    "   - 当我们更关心不遗漏任何正样本，即希望所有实际为正样本的样本都能被预测出来时，我们会注重recall。例如，在医疗诊断中，我们希望所有患病的人都能被检测出来，哪怕这意味着将一些健康的人误诊为患者。\n",
    "   - 在安全领域，如逃犯信息检索系统中，我们希望尽可能少漏掉逃犯，因此更注重查全率，即召回率。\n",
    "\n",
    "在实际应用中，precision和recall往往是一个权衡的关系，提高一个可能会降低另一个。因此，根据不同的业务需求和场景，我们需要找到一个平衡点，使得模型的整体性能最优化。有时，我们也会使用F1分数（F1 Score）作为一个综合指标，它是precision和recall的调和平均值，用于在两者之间找到一个平衡。"
   ]
  },
  {
   "cell_type": "markdown",
   "id": "df8681e6-1430-4daf-9c4a-3b2b00c5b9a7",
   "metadata": {},
   "source": [
    "大多数模型都会预测一个概率，当我们预测时，通常会将这个阈值选为 0.5。这个阈值并不总是理想的，根据这个阈值，精确率和召回率的值可能会发生很大的变化。如果我们选择的每个阈值都能计算出精确率和召回率，那么我们就可以在这些值之间绘制出曲线图。这幅图或曲线被称为 \"精确率-召回率曲线\"。"
   ]
  },
  {
   "cell_type": "markdown",
   "id": "56639103-88c7-403b-9279-eaf20b3b4a68",
   "metadata": {},
   "source": [
    "假设我们有两个列表："
   ]
  },
  {
   "cell_type": "code",
   "execution_count": 22,
   "id": "52703605-0cbc-47f7-b727-0ecc43c43869",
   "metadata": {},
   "outputs": [],
   "source": [
    "y_true = [0, 0, 0, 1, 0, 0, 0, 0, 0, 0,\n",
    "          1, 0, 0, 0, 0, 0, 0, 0, 1, 0]\n",
    "\n",
    "y_pred = [0.02638412, 0.11114267, 0.31620708,\n",
    "          0.0490937, 0.0191491, 0.17554844,\n",
    "          0.15952202, 0.03819563, 0.11639273,\n",
    "          0.079377,  0.08584789, 0.39095342,\n",
    "          0.27259048, 0.03447096, 0.04644807,\n",
    "          0.03543574, 0.18521942, 0.05934905,\n",
    "          0.61977213, 0.33056815]"
   ]
  },
  {
   "cell_type": "markdown",
   "id": "e661df5a-a1d3-43e6-8f3b-23a4511261a9",
   "metadata": {},
   "source": [
    "因此，y_true 是我们的目标值，而 y_pred 是样本被赋值为 1 的概率值。因此，现在我们要看的是预测中的概率，而不是预测值（大多数情况下，预测值的计算阈值为 0.5）。"
   ]
  },
  {
   "cell_type": "code",
   "execution_count": 25,
   "id": "9c78a8e1-96c7-43de-af4a-010c8a5c0614",
   "metadata": {},
   "outputs": [],
   "source": [
    "precisions = []\n",
    "recalls = []\n",
    "thresholds = [0.0490937 , 0.05934905, 0.079377,\n",
    "              0.08584789, 0.11114267, 0.11639273,\n",
    "              0.15952202, 0.17554844, 0.18521942,\n",
    "              0.27259048, 0.31620708, 0.33056815,\n",
    "              0.39095342, 0.61977213]\n",
    "\n",
    "# 遍历预测阈值\n",
    "for i in thresholds:\n",
    "    # 若样本为正类（1）的概率大于阈值，为1，否则为0\n",
    "    temp_prediction = [1 if x >= i else 0 for x in y_pred]\n",
    "    # 计算精确率\n",
    "    p = precision(y_true, temp_prediction)\n",
    "    # 计算召回率\n",
    "    r = recall(y_true, temp_prediction)\n",
    "    # 加入精确率列表\n",
    "    precisions.append(p)\n",
    "    # 加入召回率列表\n",
    "    recalls.append(r)"
   ]
  },
  {
   "cell_type": "markdown",
   "id": "3f4cdd19-9dae-4d8f-9f6a-ef243f54d9ab",
   "metadata": {},
   "source": [
    "开始绘制精确率-召回率曲线："
   ]
  },
  {
   "cell_type": "code",
   "execution_count": 29,
   "id": "93380696-3195-4965-b872-25ebd0bd29a0",
   "metadata": {},
   "outputs": [],
   "source": [
    "import matplotlib.pyplot as plt"
   ]
  },
  {
   "cell_type": "code",
   "execution_count": 30,
   "id": "f724bc2c-4974-4e2b-aa7e-05ec11b54d7b",
   "metadata": {},
   "outputs": [
    {
     "data": {
      "text/plain": [
       "Text(0, 0.5, 'Precision')"
      ]
     },
     "execution_count": 30,
     "metadata": {},
     "output_type": "execute_result"
    },
    {
     "data": {
      "image/png": "[encoded data removed]",
      "text/plain": [
       "<Figure size 700x700 with 1 Axes>"
      ]
     },
     "metadata": {},
     "output_type": "display_data"
    }
   ],
   "source": [
    "# 创建画布\n",
    "plt.figure(figsize=(7, 7))\n",
    "# x轴为召回率，y轴为精确率\n",
    "plt.plot(recalls, precisions)\n",
    "# 添加x轴标签，字体大小为15\n",
    "plt.xlabel('Recall', fontsize=15)\n",
    "# 添加y轴标签，字条大小为15\n",
    "plt.ylabel('Precision', fontsize=15)"
   ]
  },
  {
   "cell_type": "markdown",
   "id": "b466fd0d-4643-43e6-85d8-c465b988b418",
   "metadata": {},
   "source": [
    "这是因为我们只有 20 个样本，其中只有 3 个是阳性样本。但这没什么好担心的。这还是那条精确率-召回曲线。"
   ]
  },
  {
   "cell_type": "markdown",
   "id": "b525424d-95c9-48ff-9623-8153367959af",
   "metadata": {},
   "source": [
    "选择一个既能提供良好精确率又能提供召回值的阈值是很有挑战性的。如果阈值过高，真阳性的数量就会减少，而假阴性的数量就会增加。这会降低召回率，但精确率得分会很高。如果将阈值降得太低，则误报会大量增加，精确率也会降低。"
   ]
  },
  {
   "cell_type": "markdown",
   "id": "108ab7f5-3b1c-4810-9a1e-f43f19074240",
   "metadata": {},
   "source": [
    "精确率和召回率的范围都是从 0 到 1，越接近 1 越好。"
   ]
  },
  {
   "cell_type": "markdown",
   "id": "1fe9141d-7d5f-4d37-bb33-adb7662cc08e",
   "metadata": {},
   "source": [
    "召回率衡量的是模型识别出所有正样本的能力。如果一个模型的召回率很高，这意味着它能够识别出大部分实际为正的样本，即漏检的情况较少。在医疗诊断中，高召回率至关重要，因为这意味着能够检测出尽可能多的疾病病例，即使这可能会导致一些健康的人被误诊。相反，如果召回率低，那么意味着许多应该被识别的正样本被遗漏了，这在需要高查全率的应用中是不可接受的。\n",
    "\n",
    "精确率关注的是模型预测为正样本的样本中，实际为正样本的比例。一个高精确率的模型意味着它预测为正的样本大多数都是正确的，这在那些误报成本较高的情况下非常重要。例如，在信用卡欺诈检测中，高精确率可以减少对合法交易的不必要调查，从而减少对客户的干扰。而如果精确率低，则意味着模型会产生很多误报，这在需要高准确性的场景中是不利的。\n",
    "\n",
    "F1分数是精确率和召回率的调和平均值，它试图在两者之间找到一个平衡点。当精确率和召回率都很高时，F1分数也会很高，这表明模型在预测正样本时既准确又全面。在实际应用中，根据业务需求的不同，可能会对精确率或召回率有不同的偏好，F1分数提供了一个综合考虑这两个因素的评估指标。"
   ]
  },
  {
   "cell_type": "markdown",
   "id": "4511d7d2-36f2-4f41-86ed-6ed5085b1dda",
   "metadata": {},
   "source": [
    "F1 分数是精确率和召回率的综合指标。它被定义为精确率和召回率的简单加权平均值（调和平均值）。如果我们用 P 表示精确率，用 R 表示召回率，那么 F1 分数可以表示为："
   ]
  },
  {
   "attachments": {
    "5407042a-4417-425c-92cc-305dbf1f9a4f.png": {
     "image/png": "[encoded data removed]"
    }
   },
   "cell_type": "markdown",
   "id": "51f4d6e4-6a4e-47e4-bd48-db85bded1008",
   "metadata": {},
   "source": [
    "![image.png](attachment:5407042a-4417-425c-92cc-305dbf1f9a4f.png)"
   ]
  },
  {
   "cell_type": "markdown",
   "id": "868f62c5-bf5f-442e-bd59-914591c27234",
   "metadata": {},
   "source": [
    "根据 TP、FP 和 FN，稍加数学计算就能得出以下 F1 等式："
   ]
  },
  {
   "attachments": {
    "72dbbef8-d845-41eb-bf1d-c59732c50f1d.png": {
     "image/png": "[encoded data removed]"
    }
   },
   "cell_type": "markdown",
   "id": "f5a5fcf6-3235-48fd-9e21-432726399091",
   "metadata": {},
   "source": [
    "![image.png](attachment:72dbbef8-d845-41eb-bf1d-c59732c50f1d.png)"
   ]
  },
  {
   "cell_type": "markdown",
   "id": "ad8cb85c-aa1c-4bba-92a9-ce2e1ce0af7a",
   "metadata": {},
   "source": [
    "使用Python来进行实现，其实非常简单："
   ]
  },
  {
   "cell_type": "code",
   "execution_count": 31,
   "id": "bb0032df-a459-433b-a766-d955fe5601b6",
   "metadata": {},
   "outputs": [],
   "source": [
    "def f1(y_true, y_pred):\n",
    "    # 计算精确率\n",
    "    p = precision(y_true, y_pred)\n",
    "    # 计算召回率\n",
    "    r = recall(y_true, y_pred)\n",
    "    # 计算f1值\n",
    "    score = 2 * p * r / (p + r)\n",
    "    return score"
   ]
  },
  {
   "cell_type": "markdown",
   "id": "6245ac62-93ef-41f9-b8fe-aad0b19a1651",
   "metadata": {},
   "source": [
    "让我们看看其结果，并与 scikit-learn 进行比较。"
   ]
  },
  {
   "cell_type": "code",
   "execution_count": 32,
   "id": "afe819ac-f610-4d91-8752-274056a46c0c",
   "metadata": {},
   "outputs": [
    {
     "data": {
      "text/plain": [
       "0.5714285714285715"
      ]
     },
     "execution_count": 32,
     "metadata": {},
     "output_type": "execute_result"
    }
   ],
   "source": [
    "y_true = [0, 0, 0, 1, 0, 0, 0, 0, 0, 0,\n",
    "          1, 0, 0, 0, 0, 0, 0, 0, 1, 0]\n",
    "y_pred = [0, 0, 1, 0, 0, 0, 1, 0, 0, 0,\n",
    "          1, 0, 0, 0, 0, 0, 0, 0, 1, 0]\n",
    "\n",
    "f1(y_true, y_pred)"
   ]
  },
  {
   "cell_type": "markdown",
   "id": "c191a2f8-fd74-48eb-9129-99d02f870111",
   "metadata": {},
   "source": [
    "通过 scikit learn，我们可以得到相同的列表："
   ]
  },
  {
   "cell_type": "code",
   "execution_count": 34,
   "id": "097d0418-a0b7-4dff-a664-cdca9e66641e",
   "metadata": {},
   "outputs": [
    {
     "data": {
      "text/plain": [
       "np.float64(0.5714285714285714)"
      ]
     },
     "execution_count": 34,
     "metadata": {},
     "output_type": "execute_result"
    }
   ],
   "source": [
    "from sklearn import metrics\n",
    "\n",
    "metrics.f1_score(y_true, y_pred)"
   ]
  },
  {
   "cell_type": "markdown",
   "id": "1918c1cf-feb4-4681-9901-ad2ba236d773",
   "metadata": {},
   "source": [
    "与其单独看精确率和召回率，还可以只看 F1 分数。与精确率、召回率和准确度一样，F1 分数的范围也是从 0 到 1，完美预测模型的 F1 分数为 1。"
   ]
  },
  {
   "cell_type": "markdown",
   "id": "5a292c7b-7956-4a96-bf52-2f0667979ea3",
   "metadata": {},
   "source": [
    "第一个术语是 TPR 或真阳性率（True Positive Rate），它与召回率相同。"
   ]
  },
  {
   "attachments": {
    "e1886269-f5b1-4f22-b51a-1b0b0e82b170.png": {
     "image/png": "[encoded data removed]"
    }
   },
   "cell_type": "markdown",
   "id": "6fc11848-0aab-4d71-b98f-678bf8baa3b9",
   "metadata": {},
   "source": [
    "![image.png](attachment:e1886269-f5b1-4f22-b51a-1b0b0e82b170.png)"
   ]
  },
  {
   "cell_type": "markdown",
   "id": "161806e3-0a21-4f13-9d49-dbab7b860ffd",
   "metadata": {},
   "source": [
    "尽管它与召回率相同，但我们将为它创建一个 python 函数，以便今后使用这个名称。"
   ]
  },
  {
   "cell_type": "code",
   "execution_count": 35,
   "id": "44b4a282-893d-41fc-8cd0-fa1070d81954",
   "metadata": {},
   "outputs": [],
   "source": [
    "def tpr(y_true, y_pred):\n",
    "    # 真阳性率（TPR），与召回率计算公式一致\n",
    "    return recall(y_true, y_pred)"
   ]
  },
  {
   "cell_type": "markdown",
   "id": "d14bdf86-ea3b-4984-a9f6-d0db6d3af64f",
   "metadata": {},
   "source": [
    "TPR 或召回率也被称为灵敏度。"
   ]
  },
  {
   "cell_type": "markdown",
   "id": "08240be4-03b9-45c7-9c38-74d03c04db4c",
   "metadata": {},
   "source": [
    "而 FPR 或假阳性率（False Positive Rate）的定义是："
   ]
  },
  {
   "attachments": {
    "36dc8bdd-ad15-4c5f-83cd-2389d54ab0a1.png": {
     "image/png": "[encoded data removed]"
    }
   },
   "cell_type": "markdown",
   "id": "b519bc19-da66-433b-8896-7f492ba230e7",
   "metadata": {},
   "source": [
    "![image.png](attachment:36dc8bdd-ad15-4c5f-83cd-2389d54ab0a1.png)"
   ]
  },
  {
   "cell_type": "code",
   "execution_count": 37,
   "id": "847a9922-7473-4640-8f48-96b099d26fb8",
   "metadata": {},
   "outputs": [],
   "source": [
    "def fpr(y_true, y_pred):\n",
    "    # 假阳性样本数\n",
    "    fp = false_positive(y_true, y_pred)\n",
    "    # 真阴性样本数\n",
    "    tn = true_negative(y_true, y_pred)\n",
    "    # 返回假阳性率（FPR）\n",
    "    return fp / (tn + fp)"
   ]
  },
  {
   "cell_type": "markdown",
   "id": "29e99826-de88-400e-8766-ee228a38bf51",
   "metadata": {},
   "source": [
    "假设我们只有 15 个样本，其目标值为二元：\n",
    "\n",
    "Actual targets : [0, 0, 0, 0, 1, 0, 1, 0, 0, 1, 0, 1, 0, 0, 1, 0, 1]\n",
    "\n",
    "我们训练一个类似随机森林的模型，就能得到样本呈阳性的概率。\n",
    "\n",
    "Predicted probabilities for 1: [0.1, 0.3, 0.2, 0.6, 0.8, 0.05, 0.9, 0.5, 0.3, 0.66, 0.3, 0.2, 0.85, 0.15, 0.99]"
   ]
  },
  {
   "cell_type": "markdown",
   "id": "a2c8433a-9bb0-42ff-b567-bb572e7cdfe9",
   "metadata": {},
   "source": [
    "对于 >= 0.5 的典型阈值，我们可以评估上述所有精确率、召回率/TPR、F1 和 FPR 值。但是，如果我们将阈值选为 0.4 或 0.6，也可以做到这一点。事实上，我们可以选择 0 到 1 之间的任何值，并计算上述所有指标。"
   ]
  },
  {
   "cell_type": "markdown",
   "id": "bd1298b5-b30f-4168-baeb-de3b12edbec4",
   "metadata": {},
   "source": [
    "不过，我们只计算两个值： TPR 和 FPR。"
   ]
  },
  {
   "cell_type": "code",
   "execution_count": 38,
   "id": "fca255ce-081f-4e00-bd8a-332d03811506",
   "metadata": {},
   "outputs": [],
   "source": [
    "# 初始化真阳性率列表\n",
    "tpr_list = []\n",
    "# 初始化假阳性率列表\n",
    "fpr_list = []\n",
    "\n",
    "# 真实样本标签\n",
    "y_true = [0, 0, 0, 0, 1, 0, 1,\n",
    "          0, 0, 1, 0, 1, 0, 0, 1]\n",
    "\n",
    "# 预测样本为正类（1）的概率\n",
    "y_pred = [0.1, 0.3, 0.2, 0.6, 0.8, 0.05,\n",
    "          0.9, 0.5, 0.3, 0.66, 0.3, 0.2,\n",
    "          0.85, 0.15, 0.99]\n",
    "\n",
    "# 预测阈值\n",
    "thresholds = [0, 0.1, 0.2, 0.3, 0.4, 0.5,\n",
    "              0.6, 0.7, 0.8, 0.85, 0.9, 0.99, 1.0]\n",
    "\n",
    "# 遍历预测阈值\n",
    "for thresh in thresholds:\n",
    "    # 若样本为正类（1）的概率大于阈值，为1，否则为0\n",
    "    temp_pred = [1 if x >= thresh else 0 for x in y_pred]\n",
    "    # 真阳性率\n",
    "    temp_tpr = tpr(y_true, temp_pred)\n",
    "    # 假阳性率\n",
    "    temp_fpr = fpr(y_true, temp_pred)\n",
    "    # 将真阳性率加入列表\n",
    "    tpr_list.append(temp_tpr)\n",
    "    # 将假阳性率加入列表\n",
    "    fpr_list.append(temp_fpr)"
   ]
  },
  {
   "cell_type": "markdown",
   "id": "32069cc0-f9f6-48da-9c99-3e2ad583523c",
   "metadata": {},
   "source": [
    "因此，我们可以得到每个阈值的 TPR 值和 FPR 值。"
   ]
  },
  {
   "cell_type": "code",
   "execution_count": 40,
   "id": "164bf92b-6dae-413e-b277-9be73a546285",
   "metadata": {},
   "outputs": [
    {
     "data": {
      "text/plain": [
       "[1.0, 1.0, 1.0, 0.8, 0.8, 0.8, 0.8, 0.6, 0.6, 0.4, 0.4, 0.2, 0.0]"
      ]
     },
     "execution_count": 40,
     "metadata": {},
     "output_type": "execute_result"
    }
   ],
   "source": [
    "tpr_list"
   ]
  },
  {
   "cell_type": "code",
   "execution_count": 41,
   "id": "449b5116-cc86-4198-a630-7b84c9ee66fe",
   "metadata": {},
   "outputs": [
    {
     "data": {
      "text/plain": [
       "[1.0, 0.9, 0.7, 0.6, 0.3, 0.3, 0.2, 0.1, 0.1, 0.1, 0.0, 0.0, 0.0]"
      ]
     },
     "execution_count": 41,
     "metadata": {},
     "output_type": "execute_result"
    }
   ],
   "source": [
    "fpr_list"
   ]
  },
  {
   "attachments": {
    "39521a3c-407c-4f8e-ba4a-34a0fec06042.png": {
     "image/png": "[encoded data removed]"
    }
   },
   "cell_type": "markdown",
   "id": "bf6327d1-e194-4358-87cb-35e7cc0131ad",
   "metadata": {},
   "source": [
    "如果进行绘制，则会得到这样的一张图：\n",
    "\n",
    "![image.png](attachment:39521a3c-407c-4f8e-ba4a-34a0fec06042.png)"
   ]
  },
  {
   "cell_type": "markdown",
   "id": "30009be4-7db1-4b46-be2d-cc1ca8d6c7fb",
   "metadata": {},
   "source": [
    "这条曲线也被称为 ROC 曲线。如果我们计算这条 ROC 曲线下的面积，就是在计算另一个指标，当数据集的二元目标偏斜时，这个指标就会非常常用。"
   ]
  },
  {
   "cell_type": "markdown",
   "id": "a2029259-c5f2-478b-9f6f-ad49e96407e7",
   "metadata": {},
   "source": [
    "这个指标被称为 ROC 曲线下面积或曲线下面积，简称 AUC。计算 ROC 曲线下面积的方法有很多。在此，我们将采用 scikit- learn 的奇妙实现方法。"
   ]
  },
  {
   "cell_type": "code",
   "execution_count": 42,
   "id": "fa9789e3-294e-4394-b41f-aba276a73131",
   "metadata": {},
   "outputs": [
    {
     "name": "stdout",
     "output_type": "stream",
     "text": [
      "ROC AUC Score: 0.8300000000000001\n"
     ]
    }
   ],
   "source": [
    "from sklearn import metrics\n",
    "\n",
    "# 真实的标签\n",
    "y_true = [0, 0, 0, 0, 1, 0, 1,\n",
    "          0, 0, 1, 0, 1, 0, 0, 1]\n",
    "\n",
    "# 预测的概率\n",
    "y_pred = [0.1, 0.3, 0.2, 0.6, 0.8, 0.05,\n",
    "          0.9, 0.5, 0.3, 0.66, 0.3, 0.2,\n",
    "          0.85, 0.15, 0.99]\n",
    "\n",
    "# 计算ROC AUC分数\n",
    "roc_auc_score = metrics.roc_auc_score(y_true, y_pred)\n",
    "\n",
    "# 输出ROC AUC分数\n",
    "print(\"ROC AUC Score:\", roc_auc_score)"
   ]
  },
  {
   "cell_type": "markdown",
   "id": "f67300b6-0444-4c30-a895-117189aeefa0",
   "metadata": {},
   "source": [
    "AUC 值从 0 到 1 不等。\n",
    "\n",
    "- AUC = 1 意味着您拥有一个完美的模型。大多数情况下，这意味着你在验证时犯了一些错误，应该重新审视数据处理和验证流程。如果你没有犯任何错误，那么恭喜你，你已经拥有了针对数据集建立的最佳模型。\n",
    "- AUC = 0 意味着您的模型非常糟糕（或非常好！）。试着反转预测的概率，例如，如果您预测正类的概率是 p，试着用 1-p 代替它。这种 AUC 也可能意味着您的验证或数据处理存在问题。\n",
    "- AUC = 0.5 意味着你的预测是随机的。因此，对于任何二元分类问题，如果我将所有目标都预测为 0.5，我将得到 0.5 的 AUC。\n",
    "\n",
    "AUC 值介于 0 和 0.5 之间，意味着你的模型比随机模型更差。大多数情况下，这是因为你颠倒了类别。 如果您尝试反转预测，您的 AUC 值可能会超过 0.5。接近 1 的 AUC 值被认为是好值。"
   ]
  },
  {
   "cell_type": "markdown",
   "id": "bd25d64d-dc89-4c79-8dda-20ef4925a68a",
   "metadata": {},
   "source": [
    "AUC（Area Under the Curve）值是评估二分类模型性能的一个重要指标，特别是在处理概率预测时。它衡量的是模型区分正类（阳性样本）和负类（阴性样本）的能力。AUC值的范围从0到1，其中1表示完美区分，0.5表示没有区分能力（相当于随机猜测）。\n",
    "\n",
    "气胸检测模型中，AUC值为0.85意味着模型具有较好的区分能力。具体来说，这意味着：\n",
    "\n",
    "1. **模型的预测概率**：模型为每张胸部X光图像输出一个概率值，表示该图像患有气胸的可能性。对于有气胸的图像，这个概率值应该较高；对于没有气胸的图像，这个概率值应该较低。\n",
    "2. **排名和排序**：当我们将所有图像根据模型预测的概率值进行排序时，有气胸的图像（阳性样本）应该排在没有气胸的图像（阴性样本）之前。\n",
    "3. **AUC值的解释**：AUC值0.85表示，如果我们随机选择一张有气胸的图像和一张没有气胸的图像，模型预测的概率值使得有气胸的图像排在没有气胸图像之前的概率为85%。换句话说，模型有85%的把握说，它能够将有气胸的图像的概率排名排在没有气胸的图像之前。\n",
    "\n",
    "这个解释说明了AUC值不仅仅是一个单一的阈值判断，而是一个概率性的度量，它告诉我们模型在随机选择的正负样本对中，正确排序（即正样本概率高于负样本）的期望比例。因此，AUC值越高，模型的排序能力越强，即模型越有可能将正样本排在负样本之前。"
   ]
  },
  {
   "attachments": {
    "b9ee7d03-5974-4e80-ad2c-2b96b37851c5.png": {
     "image/png": "[encoded data removed]"
    }
   },
   "cell_type": "markdown",
   "id": "762a320b-6ab2-4ce2-be75-47e54f5802f8",
   "metadata": {},
   "source": [
    "计算概率和 AUC 后，需要对测试集进行预测。根据问题和使用情况，您可能需要概率或实际类别。如果想要概率，这并不难。如果想要类别，则需要选择一个阈值。在二元分类的情况下，可以采用类似下面的方法。\n",
    "\n",
    "![image.png](attachment:b9ee7d03-5974-4e80-ad2c-2b96b37851c5.png)"
   ]
  },
  {
   "cell_type": "markdown",
   "id": "c8b1e075-19e4-4ef9-a15c-11628e18a631",
   "metadata": {},
   "source": [
    "也就是说，预测是一个只包含二元变量的新列表。如果概率大于或等于给定的阈值，则预测中的一项为 1，否则为 0。"
   ]
  },
  {
   "cell_type": "markdown",
   "id": "30168d65-e804-4328-9d50-8155891c9f9b",
   "metadata": {},
   "source": [
    "可以使用 ROC 曲线来选择这个阈值："
   ]
  },
  {
   "cell_type": "code",
   "execution_count": 43,
   "id": "fd0f0553-f5de-4c31-8d7e-f55ea0469b39",
   "metadata": {},
   "outputs": [],
   "source": [
    "# 真阳性样本数列表\n",
    "tp_list = []\n",
    "# 假阳性样本数列表\n",
    "fp_list = []\n",
    "\n",
    "# 真实标签\n",
    "y_true = [0, 0, 0, 0, 1, 0, 1,\n",
    "          0, 0, 1, 0, 1, 0, 0, 1]\n",
    "\n",
    "# 预测样本为正类（1）的概率\n",
    "y_pred = [0.1, 0.3, 0.2, 0.6, 0.8, 0.05,\n",
    "          0.9, 0.5, 0.3, 0.66, 0.3, 0.2,\n",
    "          0.85, 0.15, 0.99]\n",
    "\n",
    "# 预测阈值\n",
    "thresholds = [0, 0.1, 0.2, 0.3, 0.4, 0.5,\n",
    "              0.6, 0.7, 0.8, 0.85, 0.9, 0.99, 1.0]\n",
    "\n",
    "# 遍历预测阈值\n",
    "for thresh in thresholds:\n",
    "    # 若样本为正类（1）的概率大于阈值，为1，否则为0\n",
    "    temp_pred = [1 if x >= thresh else 0 for x in y_pred]\n",
    "    # 真阳性样本数\n",
    "    temp_tp = true_positive(y_true, temp_pred)\n",
    "    # 假阳性样本数\n",
    "    temp_fp = false_positive(y_true, temp_pred)\n",
    "    # 加入真阳性样本数列表\n",
    "    tp_list.append(temp_tp)\n",
    "    # 加入假阳性样本数列表\n",
    "    fp_list.append(temp_fp)"
   ]
  },
  {
   "cell_type": "markdown",
   "id": "482143ec-6379-4e29-b8f2-fb14502b1af7",
   "metadata": {},
   "source": [
    "大多数情况下，ROC 曲线左上角的值应该是一个相当不错的阈值。"
   ]
  },
  {
   "attachments": {
    "4603ed53-b75c-4dad-b7fb-9c39b8a5cd4c.png": {
     "image/png": "[encoded data removed]"
    }
   },
   "cell_type": "markdown",
   "id": "6a8b8d76-966d-4c95-b6ec-57245f19828a",
   "metadata": {},
   "source": [
    "![image.png](attachment:4603ed53-b75c-4dad-b7fb-9c39b8a5cd4c.png)"
   ]
  }
 ],
 "metadata": {
  "kernelspec": {
   "display_name": "Python 3 (ipykernel)",
   "language": "python",
   "name": "python3"
  },
  "language_info": {
   "codemirror_mode": {
    "name": "ipython",
    "version": 3
   },
   "file_extension": ".py",
   "mimetype": "text/x-python",
   "name": "python",
   "nbconvert_exporter": "python",
   "pygments_lexer": "ipython3",
   "version": "3.11.9"
  }
 },
 "nbformat": 4,
 "nbformat_minor": 5
}
